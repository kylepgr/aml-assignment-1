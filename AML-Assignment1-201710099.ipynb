{
 "cells": [
  {
   "cell_type": "code",
   "execution_count": 1,
   "metadata": {},
   "outputs": [],
   "source": [
    "import numpy as np\n",
    "import matplotlib.pyplot as plt\n",
    "from scipy.stats import norm\n",
    "import statistics as stat\n",
    "import math"
   ]
  },
  {
   "cell_type": "code",
   "execution_count": 2,
   "metadata": {},
   "outputs": [],
   "source": [
    "class LinMod:\n",
    "    def __init__(self):\n",
    "        self.x = None\n",
    "        self.y = None\n",
    "        self.θ = None\n",
    "        self.dM = None # design matrix\n",
    "        self.y_pred = None\n",
    "        self.var = None\n",
    "        self.std = None\n",
    "    \n",
    "    def gen_x(self):\n",
    "        self.x = np.random.uniform(0,1, size=(50))\n",
    "        return self.x\n",
    "    def gen_y(self):\n",
    "        self.y = np.random.uniform(0,1, size=(50))\n",
    "        return self.y\n",
    "    \n",
    "    def des_matr(self):\n",
    "        \n",
    "        self.dM = np.c_[np.ones(self.x.shape[0]), self.x]\n",
    "        \n",
    "        return self.dM\n",
    "    \n",
    "    \n",
    "    def ols(self):\n",
    "        self.θ = np.linalg.inv(self.dM.T.dot(self.dM)).dot(self.dM.T).dot(self.y)\n",
    "        self.y_pred = self.θ[0] - self.θ[1]*self.x        \n",
    "        print(\"θ values: \", self.θ)\n",
    "        print(\"Predictions: \",self.y_pred)        \n",
    "        plt.plot(self.x, self.y, 'rx')\n",
    "        plt.plot(self.x, self.y_pred, 'b-.')\n",
    "        plt.title(\"OLS\")\n",
    "        plt.show()\n",
    "        \n",
    "    def mle(self):\n",
    "        self.θ = np.linalg.inv(self.dM.T.dot((self.dM))).dot((self.dM.T).dot(self.y))\n",
    "        self.y_pred = self.θ[0] - self.θ[1]*self.x             \n",
    "        self.var = (1/len(self.x))*((self.y-self.y_pred).T.dot(self.y - self.y_pred))\n",
    "        self.std = math.sqrt(self.var)\n",
    "        print(\"θ values: \", self.θ)\n",
    "        print(\"Predictions: \",self.y_pred)\n",
    "        plt.plot(self.x, self.y, 'rx')\n",
    "        plt.plot(self.x, self.y_pred, 'b-.', label=\"μ\")\n",
    "        plt.plot(self.x, self.y_pred+self.std, 'r--',label=\"μ+σ\")\n",
    "        plt.plot(self.x, self.y_pred-self.std,'g--', label=\"μ-σ\") \n",
    "        plt.title(\"MLE\")\n",
    "        plt.legend()\n",
    "        plt.show()"
   ]
  },
  {
   "cell_type": "code",
   "execution_count": 3,
   "metadata": {},
   "outputs": [
    {
     "data": {
      "text/plain": [
       "array([0.50110173, 0.33250244, 0.56082865, 0.19686814, 0.15962563,\n",
       "       0.72557433, 0.83526625, 0.57090541, 0.24392901, 0.73479788,\n",
       "       0.5739652 , 0.37758098, 0.28664644, 0.48010622, 0.23107862,\n",
       "       0.24709413, 0.04684195, 0.51408574, 0.30508623, 0.41358218,\n",
       "       0.44138694, 0.30449105, 0.43401479, 0.82453743, 0.54282725,\n",
       "       0.00642214, 0.14165517, 0.50751633, 0.57935956, 0.99697642,\n",
       "       0.82594455, 0.39884914, 0.80511489, 0.68868545, 0.37217955,\n",
       "       0.16606007, 0.69628297, 0.20619346, 0.37163209, 0.54556832,\n",
       "       0.62292863, 0.74583916, 0.05812889, 0.98694018, 0.33536161,\n",
       "       0.5317355 , 0.09204463, 0.98397301, 0.95460792, 0.2863191 ])"
      ]
     },
     "execution_count": 3,
     "metadata": {},
     "output_type": "execute_result"
    }
   ],
   "source": [
    "test = LinMod()\n",
    "test.gen_x()\n",
    "test.gen_y()"
   ]
  },
  {
   "cell_type": "code",
   "execution_count": 5,
   "metadata": {},
   "outputs": [
    {
     "data": {
      "text/plain": [
       "array([[1.        , 0.34178581],\n",
       "       [1.        , 0.12106592],\n",
       "       [1.        , 0.05655962],\n",
       "       [1.        , 0.60526097],\n",
       "       [1.        , 0.34074916],\n",
       "       [1.        , 0.29118995],\n",
       "       [1.        , 0.41652602],\n",
       "       [1.        , 0.49438445],\n",
       "       [1.        , 0.71891792],\n",
       "       [1.        , 0.54288095],\n",
       "       [1.        , 0.56296125],\n",
       "       [1.        , 0.81258412],\n",
       "       [1.        , 0.25248916],\n",
       "       [1.        , 0.63231678],\n",
       "       [1.        , 0.09245513],\n",
       "       [1.        , 0.66283575],\n",
       "       [1.        , 0.23225165],\n",
       "       [1.        , 0.109654  ],\n",
       "       [1.        , 0.04087019],\n",
       "       [1.        , 0.27549306],\n",
       "       [1.        , 0.26630192],\n",
       "       [1.        , 0.96082366],\n",
       "       [1.        , 0.88838354],\n",
       "       [1.        , 0.94586306],\n",
       "       [1.        , 0.24813953],\n",
       "       [1.        , 0.67450769],\n",
       "       [1.        , 0.82683588],\n",
       "       [1.        , 0.34017347],\n",
       "       [1.        , 0.13860728],\n",
       "       [1.        , 0.30472743],\n",
       "       [1.        , 0.58447721],\n",
       "       [1.        , 0.49103962],\n",
       "       [1.        , 0.90270465],\n",
       "       [1.        , 0.7015404 ],\n",
       "       [1.        , 0.73170162],\n",
       "       [1.        , 0.43522998],\n",
       "       [1.        , 0.54266356],\n",
       "       [1.        , 0.25413948],\n",
       "       [1.        , 0.87173842],\n",
       "       [1.        , 0.37485229],\n",
       "       [1.        , 0.38842138],\n",
       "       [1.        , 0.5653473 ],\n",
       "       [1.        , 0.60045341],\n",
       "       [1.        , 0.06529475],\n",
       "       [1.        , 0.30311097],\n",
       "       [1.        , 0.78855376],\n",
       "       [1.        , 0.52559701],\n",
       "       [1.        , 0.00154517],\n",
       "       [1.        , 0.70552879],\n",
       "       [1.        , 0.81136269]])"
      ]
     },
     "execution_count": 5,
     "metadata": {},
     "output_type": "execute_result"
    }
   ],
   "source": [
    "test.des_matr()"
   ]
  },
  {
   "cell_type": "code",
   "execution_count": 6,
   "metadata": {},
   "outputs": [
    {
     "name": "stdout",
     "output_type": "stream",
     "text": [
      "θ values:  [ 0.51710451 -0.08657429]\n",
      "Predictions:  [0.54669437 0.5275857  0.52200112 0.56950455 0.54660463 0.54231407\n",
      " 0.55316495 0.55990549 0.57934432 0.56410404 0.56584248 0.5874534\n",
      " 0.53896358 0.57184689 0.52510875 0.57448904 0.53721153 0.52659773\n",
      " 0.52064282 0.54095512 0.54015941 0.60028714 0.59401569 0.59899193\n",
      " 0.53858701 0.57549954 0.58868724 0.54655479 0.52910434 0.54348607\n",
      " 0.56770521 0.55961592 0.59525553 0.57783987 0.58045106 0.55478424\n",
      " 0.56408522 0.53910645 0.59257465 0.54955708 0.55073182 0.56604905\n",
      " 0.56908834 0.52275735 0.54334613 0.58537299 0.5626077  0.51723828\n",
      " 0.57818517 0.58734766]\n"
     ]
    },
    {
     "data": {
      "image/png": "[encoded data removed]",
      "text/plain": [
       "<Figure size 432x288 with 1 Axes>"
      ]
     },
     "metadata": {
      "needs_background": "light"
     },
     "output_type": "display_data"
    }
   ],
   "source": [
    "test.ols()"
   ]
  },
  {
   "cell_type": "code",
   "execution_count": 7,
   "metadata": {},
   "outputs": [
    {
     "name": "stdout",
     "output_type": "stream",
     "text": [
      "θ values:  [ 0.51710451 -0.08657429]\n",
      "Predictions:  [0.54669437 0.5275857  0.52200112 0.56950455 0.54660463 0.54231407\n",
      " 0.55316495 0.55990549 0.57934432 0.56410404 0.56584248 0.5874534\n",
      " 0.53896358 0.57184689 0.52510875 0.57448904 0.53721153 0.52659773\n",
      " 0.52064282 0.54095512 0.54015941 0.60028714 0.59401569 0.59899193\n",
      " 0.53858701 0.57549954 0.58868724 0.54655479 0.52910434 0.54348607\n",
      " 0.56770521 0.55961592 0.59525553 0.57783987 0.58045106 0.55478424\n",
      " 0.56408522 0.53910645 0.59257465 0.54955708 0.55073182 0.56604905\n",
      " 0.56908834 0.52275735 0.54334613 0.58537299 0.5626077  0.51723828\n",
      " 0.57818517 0.58734766]\n"
     ]
    },
    {
     "data": {
      "image/png": "[encoded data removed]",
      "text/plain": [
       "<Figure size 432x288 with 1 Axes>"
      ]
     },
     "metadata": {
      "needs_background": "light"
     },
     "output_type": "display_data"
    }
   ],
   "source": [
    "test.mle()"
   ]
  },
  {
   "cell_type": "code",
   "execution_count": null,
   "metadata": {},
   "outputs": [],
   "source": []
  }
 ],
 "metadata": {
  "kernelspec": {
   "display_name": "Python 3",
   "language": "python",
   "name": "python3"
  },
  "language_info": {
   "codemirror_mode": {
    "name": "ipython",
    "version": 3
   },
   "file_extension": ".py",
   "mimetype": "text/x-python",
   "name": "python",
   "nbconvert_exporter": "python",
   "pygments_lexer": "ipython3",
   "version": "3.8.5"
  }
 },
 "nbformat": 4,
 "nbformat_minor": 4
}
